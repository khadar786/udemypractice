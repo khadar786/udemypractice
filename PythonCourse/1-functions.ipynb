{
 "cells": [
  {
   "cell_type": "code",
   "execution_count": 1,
   "id": "b70db524",
   "metadata": {},
   "outputs": [],
   "source": [
    "def even_or_odd(num):\n",
    "    if num%2==0:\n",
    "        return \"even\"\n",
    "    else:\n",
    "        return \"odd\"\n",
    "        "
   ]
  },
  {
   "cell_type": "code",
   "execution_count": 2,
   "id": "cb9183ad",
   "metadata": {},
   "outputs": [
    {
     "data": {
      "text/plain": [
       "'even'"
      ]
     },
     "execution_count": 2,
     "metadata": {},
     "output_type": "execute_result"
    }
   ],
   "source": [
    "even_or_odd(10)"
   ]
  },
  {
   "cell_type": "code",
   "execution_count": 4,
   "id": "8294e2f7",
   "metadata": {},
   "outputs": [
    {
     "name": "stdout",
     "output_type": "stream",
     "text": [
      "Hello khadar\n"
     ]
    }
   ],
   "source": [
    "# Default parameters\n",
    "def greet(name=\"Guest\"):\n",
    "    print(f\"Hello {name}\")\n",
    "\n",
    "greet(\"khadar\")"
   ]
  },
  {
   "cell_type": "code",
   "execution_count": 5,
   "id": "d831eea4",
   "metadata": {},
   "outputs": [
    {
     "name": "stdout",
     "output_type": "stream",
     "text": [
      "Hello Guest\n"
     ]
    }
   ],
   "source": [
    "greet()"
   ]
  },
  {
   "cell_type": "code",
   "execution_count": 6,
   "id": "c9c29e1d",
   "metadata": {},
   "outputs": [],
   "source": [
    "### Variable Length Arguments\n",
    "## Positional And Keywords arguments\n",
    "\n",
    "def print_numbers(*args):\n",
    "    for number in args:\n",
    "        print(number)"
   ]
  },
  {
   "cell_type": "code",
   "execution_count": 8,
   "id": "7d26a3c8",
   "metadata": {},
   "outputs": [
    {
     "name": "stdout",
     "output_type": "stream",
     "text": [
      "1\n",
      "2\n",
      "3\n",
      "4\n",
      "5\n",
      "66\n",
      "khadar\n"
     ]
    }
   ],
   "source": [
    "print_numbers(1,2,3,4,5,66,\"khadar\")"
   ]
  },
  {
   "cell_type": "code",
   "execution_count": 9,
   "id": "e4681aae",
   "metadata": {},
   "outputs": [],
   "source": [
    "### Keyword Arguments\n",
    "def print_details(**kwargs):\n",
    "    for key,value in kwargs.items():\n",
    "        print(f\"{key} : {value}\")"
   ]
  },
  {
   "cell_type": "code",
   "execution_count": 10,
   "id": "c9299eaa",
   "metadata": {},
   "outputs": [
    {
     "name": "stdout",
     "output_type": "stream",
     "text": [
      "name : khadar\n",
      "age : 38\n",
      "country : India\n"
     ]
    }
   ],
   "source": [
    "print_details(name=\"khadar\",age=\"38\",country=\"India\")"
   ]
  },
  {
   "cell_type": "code",
   "execution_count": 11,
   "id": "4f55c9c4",
   "metadata": {},
   "outputs": [],
   "source": [
    "def print_details(*args,**kwargs):\n",
    "    for value in args:\n",
    "        print(f\"Positional argument :{value}\")\n",
    "        \n",
    "    for key,value in kwargs.items():\n",
    "        print(f\"{key} : {value}\")"
   ]
  },
  {
   "cell_type": "code",
   "execution_count": 12,
   "id": "3bb0ddf8",
   "metadata": {},
   "outputs": [
    {
     "name": "stdout",
     "output_type": "stream",
     "text": [
      "Positional argument :1\n",
      "Positional argument :2\n",
      "Positional argument :3\n",
      "Positional argument :4\n",
      "Positional argument :5\n",
      "Positional argument :66\n",
      "Positional argument :khadar\n",
      "name : khadar\n",
      "age : 38\n",
      "country : India\n"
     ]
    }
   ],
   "source": [
    "print_details(1,2,3,4,5,66,\"khadar\",name=\"khadar\",age=\"38\",country=\"India\")"
   ]
  },
  {
   "cell_type": "code",
   "execution_count": null,
   "id": "6e6e5bd1",
   "metadata": {},
   "outputs": [],
   "source": []
  }
 ],
 "metadata": {
  "kernelspec": {
   "display_name": "Python 3 (ipykernel)",
   "language": "python",
   "name": "python3"
  },
  "language_info": {
   "codemirror_mode": {
    "name": "ipython",
    "version": 3
   },
   "file_extension": ".py",
   "mimetype": "text/x-python",
   "name": "python",
   "nbconvert_exporter": "python",
   "pygments_lexer": "ipython3",
   "version": "3.9.13"
  }
 },
 "nbformat": 4,
 "nbformat_minor": 5
}
