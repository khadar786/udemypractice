{
 "cells": [
  {
   "cell_type": "code",
   "execution_count": 3,
   "id": "4d82e05e",
   "metadata": {},
   "outputs": [],
   "source": [
    "#Floyds Triangle\n",
    "\n",
    "def generate_floyds_triangle(n):\n",
    "    number=1\n",
    "    for i in range(1,n+1):\n",
    "        for j in range(1,i+1):\n",
    "            print(number,end=\" \")\n",
    "            number+=1\n",
    "        print()"
   ]
  },
  {
   "cell_type": "code",
   "execution_count": 4,
   "id": "1fdb6fe9",
   "metadata": {},
   "outputs": [
    {
     "name": "stdout",
     "output_type": "stream",
     "text": [
      "1 \n",
      "2 3 \n",
      "4 5 6 \n",
      "7 8 9 10 \n",
      "11 12 13 14 15 \n"
     ]
    }
   ],
   "source": [
    "generate_floyds_triangle(5)"
   ]
  },
  {
   "cell_type": "code",
   "execution_count": 13,
   "id": "2837b8ca",
   "metadata": {},
   "outputs": [],
   "source": [
    "def generate_floyds_triangle(n):\n",
    "    number=1\n",
    "    result=[]\n",
    "    for i in range(1,n+1):\n",
    "        tstr=[str(number+j) for j in range(i)]\n",
    "        result.append(' '.join(tstr))\n",
    "        number+=i\n",
    "    return result\n",
    "    "
   ]
  },
  {
   "cell_type": "code",
   "execution_count": 14,
   "id": "6e132db0",
   "metadata": {},
   "outputs": [
    {
     "data": {
      "text/plain": [
       "['1', '2 3', '4 5 6', '7 8 9 10', '11 12 13 14 15']"
      ]
     },
     "execution_count": 14,
     "metadata": {},
     "output_type": "execute_result"
    }
   ],
   "source": [
    "generate_floyds_triangle(5)"
   ]
  },
  {
   "cell_type": "code",
   "execution_count": 27,
   "id": "a1f6af11",
   "metadata": {},
   "outputs": [],
   "source": [
    "#Diamond Pattern\n",
    "\n",
    "def generate_diamond_pattern(n):\n",
    "    pyramid=[]\n",
    "    for i in range(1,n+1):\n",
    "        stars='*'*(2*i-1)\n",
    "        spaces=' '*(n-i)\n",
    "        row=spaces+stars+spaces\n",
    "        pyramid.append(row)\n",
    "    for i in range(n-1,0,-1):\n",
    "        stars='*'*(2*i-1)\n",
    "        spaces=' '*(n-i)\n",
    "        row=spaces+stars+spaces\n",
    "        pyramid.append(row)\n",
    "    return pyramid"
   ]
  },
  {
   "cell_type": "code",
   "execution_count": 28,
   "id": "3acc1638",
   "metadata": {},
   "outputs": [
    {
     "data": {
      "text/plain": [
       "['    *    ',\n",
       " '   ***   ',\n",
       " '  *****  ',\n",
       " ' ******* ',\n",
       " '*********',\n",
       " ' ******* ',\n",
       " '  *****  ',\n",
       " '   ***   ',\n",
       " '    *    ']"
      ]
     },
     "execution_count": 28,
     "metadata": {},
     "output_type": "execute_result"
    }
   ],
   "source": [
    "generate_diamond_pattern(5)"
   ]
  },
  {
   "cell_type": "code",
   "execution_count": 31,
   "id": "b0f12aec",
   "metadata": {},
   "outputs": [],
   "source": [
    "def right_angled_triangle(n):\n",
    "    result=[]\n",
    "    for i in range(1,n+1):\n",
    "        spaces=' '*(n-i)\n",
    "        stars='*'*i\n",
    "        row=spaces+stars\n",
    "        result.append(row)\n",
    "    return result"
   ]
  },
  {
   "cell_type": "code",
   "execution_count": 32,
   "id": "eac7adcd",
   "metadata": {},
   "outputs": [
    {
     "data": {
      "text/plain": [
       "['    *', '   **', '  ***', ' ****', '*****']"
      ]
     },
     "execution_count": 32,
     "metadata": {},
     "output_type": "execute_result"
    }
   ],
   "source": [
    "right_angled_triangle(5)"
   ]
  },
  {
   "cell_type": "code",
   "execution_count": 51,
   "id": "0180ef4f",
   "metadata": {},
   "outputs": [],
   "source": [
    "def generate_sandglass(n):\n",
    "    for i in range(n):\n",
    "        stars='*'*(2*(n-i)-1)\n",
    "        spaces=' '*i\n",
    "        row=spaces+stars+spaces\n",
    "        print(row)\n",
    "    for i in range(n-1):\n",
    "        stars='*'*(2*(i+1)+1)\n",
    "        spaces=' '*(n-i-2)\n",
    "        row=spaces+stars+spaces\n",
    "        print(row)"
   ]
  },
  {
   "cell_type": "code",
   "execution_count": 52,
   "id": "f65a0095",
   "metadata": {},
   "outputs": [
    {
     "name": "stdout",
     "output_type": "stream",
     "text": [
      "*********\n",
      " ******* \n",
      "  *****  \n",
      "   ***   \n",
      "    *    \n",
      "   ***   \n",
      "  *****  \n",
      " ******* \n",
      "*********\n"
     ]
    }
   ],
   "source": [
    "generate_sandglass(5)"
   ]
  },
  {
   "cell_type": "code",
   "execution_count": 55,
   "id": "5196f2d2",
   "metadata": {},
   "outputs": [],
   "source": [
    "def generate_sandglass(n):\n",
    "    result=[]\n",
    "    for i in range(n):\n",
    "        stars='*'*(2*(n-i)-1)\n",
    "        spaces=' '*i\n",
    "        row=spaces+stars+spaces\n",
    "        result.append(row)\n",
    "    for i in range(n-1):\n",
    "        stars='*'*(2*(i+1)+1)\n",
    "        spaces=' '*(n-i-2)\n",
    "        row=spaces+stars+spaces\n",
    "        result.append(row)\n",
    "    return result"
   ]
  },
  {
   "cell_type": "code",
   "execution_count": 56,
   "id": "fdcff6fe",
   "metadata": {},
   "outputs": [
    {
     "data": {
      "text/plain": [
       "['*********',\n",
       " ' ******* ',\n",
       " '  *****  ',\n",
       " '   ***   ',\n",
       " '    *    ',\n",
       " '   ***   ',\n",
       " '  *****  ',\n",
       " ' ******* ',\n",
       " '*********']"
      ]
     },
     "execution_count": 56,
     "metadata": {},
     "output_type": "execute_result"
    }
   ],
   "source": [
    "generate_sandglass(5)"
   ]
  },
  {
   "cell_type": "code",
   "execution_count": 74,
   "id": "12073bb2",
   "metadata": {},
   "outputs": [],
   "source": [
    "def generate_hollow_right_angled_triangle(n):\n",
    "    result=[]\n",
    "    for i in range(n):\n",
    "        rstr=''\n",
    "        for j in range(n):\n",
    "            if i==(n-1) or j==(n-1) or (i+j)==(n-1):\n",
    "                #print('*',end='')\n",
    "                rstr+='*'\n",
    "            else:\n",
    "                rstr+=' '\n",
    "                #print(' ',end='')\n",
    "        #print()\n",
    "        result.append(rstr)\n",
    "    return result"
   ]
  },
  {
   "cell_type": "code",
   "execution_count": 75,
   "id": "4c5ca8cc",
   "metadata": {},
   "outputs": [
    {
     "data": {
      "text/plain": [
       "['    *', '   **', '  * *', ' *  *', '*****']"
      ]
     },
     "execution_count": 75,
     "metadata": {},
     "output_type": "execute_result"
    }
   ],
   "source": [
    "generate_hollow_right_angled_triangle(5)"
   ]
  },
  {
   "cell_type": "code",
   "execution_count": 76,
   "id": "195e4acd",
   "metadata": {},
   "outputs": [],
   "source": [
    "def generate_hollow_right_angled_triangle(n):\n",
    "    result=[]\n",
    "    for i in range(1,n+1):\n",
    "        if i ==1:\n",
    "            result.append(\"*\")\n",
    "        elif i==n:\n",
    "            result.append(\"*\"*n)\n",
    "        else:\n",
    "            result.append(\"*\"+\" \"*(i-2)+\"*\")\n",
    "    return result"
   ]
  },
  {
   "cell_type": "code",
   "execution_count": null,
   "id": "b1b796e3",
   "metadata": {},
   "outputs": [],
   "source": [
    "generate_hollow_right_angled_triangle(5)"
   ]
  },
  {
   "cell_type": "code",
   "execution_count": null,
   "id": "3111cc23",
   "metadata": {},
   "outputs": [],
   "source": []
  }
 ],
 "metadata": {
  "kernelspec": {
   "display_name": "Python 3 (ipykernel)",
   "language": "python",
   "name": "python3"
  },
  "language_info": {
   "codemirror_mode": {
    "name": "ipython",
    "version": 3
   },
   "file_extension": ".py",
   "mimetype": "text/x-python",
   "name": "python",
   "nbconvert_exporter": "python",
   "pygments_lexer": "ipython3",
   "version": "3.9.13"
  }
 },
 "nbformat": 4,
 "nbformat_minor": 5
}
