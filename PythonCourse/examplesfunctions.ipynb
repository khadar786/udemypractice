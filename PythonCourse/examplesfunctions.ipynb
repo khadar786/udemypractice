{
 "cells": [
  {
   "cell_type": "code",
   "execution_count": 2,
   "id": "93bfaf04",
   "metadata": {},
   "outputs": [],
   "source": [
    "# Example Temperature Conversion\n",
    "def convert_temperature(temp,unit):\n",
    "    #This function converts temperature between Celsius to Fahrenheit\n",
    "    if unit=='C':\n",
    "        return temp * 9/5+32 #Celsius to Fahrenheit\n",
    "    elif unit=='F':\n",
    "        return (temp-32)*5/9 #Fahrenheit to Celsius\n",
    "    else:\n",
    "        return None"
   ]
  },
  {
   "cell_type": "code",
   "execution_count": 4,
   "id": "4895384b",
   "metadata": {},
   "outputs": [
    {
     "name": "stdout",
     "output_type": "stream",
     "text": [
      "77.0\n",
      "25.0\n"
     ]
    }
   ],
   "source": [
    "print(convert_temperature(25,'C'))\n",
    "print(convert_temperature(77,'F'))"
   ]
  },
  {
   "cell_type": "code",
   "execution_count": 9,
   "id": "3c68e3ed",
   "metadata": {},
   "outputs": [
    {
     "name": "stdout",
     "output_type": "stream",
     "text": [
      "False\n",
      "True\n"
     ]
    }
   ],
   "source": [
    "# Password Strength Checker\n",
    "def is_strong_password(password):\n",
    "    if len(password)<8:\n",
    "        return False\n",
    "    if not any(char.isdigit() for char in password):\n",
    "        return False\n",
    "    if not any(char.lower() for char in password):\n",
    "        return False\n",
    "    if not any(char.upper() for char in password):\n",
    "        return False\n",
    "    if not any(char in '!@#$%^&()_+' for char in password):\n",
    "        return False\n",
    "    return True\n",
    "\n",
    "print(is_strong_password('WeekPwd'))\n",
    "print(is_strong_password('StrongPwd#1'))"
   ]
  },
  {
   "cell_type": "code",
   "execution_count": 19,
   "id": "70cf375b",
   "metadata": {},
   "outputs": [
    {
     "name": "stdout",
     "output_type": "stream",
     "text": [
      "7.799999999999999\n"
     ]
    }
   ],
   "source": [
    "# Example 3:Calculate the Total Cost of Items In a Shoping Cart\n",
    "def calculate_total_cost(cart):\n",
    "    total_cost=0\n",
    "    for item in cart:\n",
    "        #print(item)\n",
    "        total_cost+=(item['quantity']*item['price'])\n",
    "    return total_cost\n",
    "\n",
    "cart=[\n",
    "    {\n",
    "    'name':'Apple','price':0.5,'quantity':4\n",
    "    },\n",
    "    {\n",
    "    'name':'Banana','price':0.3,'quantity':3\n",
    "    },\n",
    "    {\n",
    "    'name':'Orange','price':0.7,'quantity':7\n",
    "    }\n",
    "    ]\n",
    "\n",
    "print(calculate_total_cost(cart))"
   ]
  },
  {
   "cell_type": "code",
   "execution_count": 23,
   "id": "0f3a0c63",
   "metadata": {},
   "outputs": [
    {
     "name": "stdout",
     "output_type": "stream",
     "text": [
      "True\n",
      "False\n"
     ]
    }
   ],
   "source": [
    "# Check the String is Palindrom or not\n",
    "def is_palindrome(s):\n",
    "    s=s.lower().replace(\" \",\"\")\n",
    "    return s==s[::-1]\n",
    "\n",
    "print(is_palindrome(\"A man a plan a canal Panama\"))\n",
    "print(is_palindrome(\"khadar\"))"
   ]
  },
  {
   "cell_type": "code",
   "execution_count": 25,
   "id": "b50b2006",
   "metadata": {},
   "outputs": [
    {
     "name": "stdout",
     "output_type": "stream",
     "text": [
      "720\n"
     ]
    }
   ],
   "source": [
    "# Example 5: Calculate the factorial of a number using recursion\n",
    "def factorial(n):\n",
    "    if n==1:\n",
    "        return 1\n",
    "    else:\n",
    "        return n*factorial(n-1)\n",
    "\n",
    "print(factorial(6))"
   ]
  },
  {
   "cell_type": "code",
   "execution_count": 11,
   "id": "6d839eb9",
   "metadata": {},
   "outputs": [
    {
     "data": {
      "text/plain": [
       "{'hello': 1,\n",
       " 'world': 1,\n",
       " 'how': 1,\n",
       " 'are': 1,\n",
       " 'you': 1,\n",
       " 'my': 1,\n",
       " 'name': 1,\n",
       " 'is': 1,\n",
       " 'krish': 2}"
      ]
     },
     "execution_count": 11,
     "metadata": {},
     "output_type": "execute_result"
    }
   ],
   "source": [
    "def count_word_frequency(filepath):\n",
    "    word_count={}\n",
    "    with open(filepath,'r') as file:\n",
    "        for line in file:\n",
    "            words=line.split()\n",
    "            for word in words:\n",
    "                word=word.lower().strip('.,!?;:\"\\'')\n",
    "                #print(word_count.get(word,0))\n",
    "                word_count[word]=word_count.get(word,0)+1\n",
    "                #print(word)\n",
    "    return word_count\n",
    "\n",
    "filepath='sample.txt'\n",
    "count_word_frequency(filepath)"
   ]
  },
  {
   "cell_type": "code",
   "execution_count": 13,
   "id": "b2ba992b",
   "metadata": {},
   "outputs": [
    {
     "name": "stdout",
     "output_type": "stream",
     "text": [
      "True\n",
      "False\n"
     ]
    }
   ],
   "source": [
    "import re\n",
    "\n",
    "def is_valid_email(email):\n",
    "    pattern=r'^[a-zA-Z0-9_.+-]+@[a-zA-Z0-9-]+\\.[a-zA-Z0-9-.]+$'\n",
    "    return re.match(pattern,email) is not None\n",
    "\n",
    "print(is_valid_email('test@gamil.com'))\n",
    "print(is_valid_email('test'))"
   ]
  },
  {
   "cell_type": "code",
   "execution_count": null,
   "id": "9f348746",
   "metadata": {},
   "outputs": [],
   "source": []
  }
 ],
 "metadata": {
  "kernelspec": {
   "display_name": "Python 3 (ipykernel)",
   "language": "python",
   "name": "python3"
  },
  "language_info": {
   "codemirror_mode": {
    "name": "ipython",
    "version": 3
   },
   "file_extension": ".py",
   "mimetype": "text/x-python",
   "name": "python",
   "nbconvert_exporter": "python",
   "pygments_lexer": "ipython3",
   "version": "3.11.4"
  }
 },
 "nbformat": 4,
 "nbformat_minor": 5
}
