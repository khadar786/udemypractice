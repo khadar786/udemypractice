{
 "cells": [
  {
   "cell_type": "code",
   "execution_count": 1,
   "id": "b0ac474e",
   "metadata": {},
   "outputs": [
    {
     "name": "stdout",
     "output_type": "stream",
     "text": [
      "<class 'dict'>\n"
     ]
    }
   ],
   "source": [
    "# empty dictionary\n",
    "empty_dict={}\n",
    "print(type(empty_dict))"
   ]
  },
  {
   "cell_type": "code",
   "execution_count": 2,
   "id": "45fb8597",
   "metadata": {},
   "outputs": [
    {
     "name": "stdout",
     "output_type": "stream",
     "text": [
      "<class 'dict'>\n"
     ]
    }
   ],
   "source": [
    "empty_dict=dict()\n",
    "print(type(empty_dict))"
   ]
  },
  {
   "cell_type": "code",
   "execution_count": 3,
   "id": "49badc95",
   "metadata": {},
   "outputs": [],
   "source": [
    "student={\"name\":\"nagoor\",\"age\":10,\"grade\":\"B\"}"
   ]
  },
  {
   "cell_type": "code",
   "execution_count": 5,
   "id": "2da267e0",
   "metadata": {},
   "outputs": [
    {
     "data": {
      "text/plain": [
       "10"
      ]
     },
     "execution_count": 5,
     "metadata": {},
     "output_type": "execute_result"
    }
   ],
   "source": [
    "student[\"grade\"]\n",
    "student[\"age\"]"
   ]
  },
  {
   "cell_type": "code",
   "execution_count": 9,
   "id": "aba46545",
   "metadata": {},
   "outputs": [
    {
     "name": "stdout",
     "output_type": "stream",
     "text": [
      "B\n",
      "nagoor\n",
      "None\n",
      "Not Available\n"
     ]
    }
   ],
   "source": [
    "print(student.get('grade'))\n",
    "print(student.get('name'))\n",
    "print(student.get('last_name'))\n",
    "print(student.get('last_name','Not Available'))"
   ]
  },
  {
   "cell_type": "code",
   "execution_count": 10,
   "id": "e946bd58",
   "metadata": {},
   "outputs": [
    {
     "name": "stdout",
     "output_type": "stream",
     "text": [
      "{'name': 'Nagoor Basha', 'age': 10, 'grade': 'B'}\n"
     ]
    }
   ],
   "source": [
    "#Modifying dictionary elements, it is mutable,add,update and delete elements\n",
    "student['name']='Nagoor Basha'\n",
    "\n",
    "print(student)"
   ]
  },
  {
   "cell_type": "code",
   "execution_count": 12,
   "id": "61bd8044",
   "metadata": {},
   "outputs": [
    {
     "name": "stdout",
     "output_type": "stream",
     "text": [
      "{'name': 'Nagoor Basha', 'age': 10, 'grade': 'B', 'address': 'Ramanaya peta'}\n"
     ]
    }
   ],
   "source": [
    "student['address']='Ramanaya peta'\n",
    "print(student)"
   ]
  },
  {
   "cell_type": "code",
   "execution_count": 13,
   "id": "70e60f12",
   "metadata": {},
   "outputs": [],
   "source": [
    "del student['grade']"
   ]
  },
  {
   "cell_type": "code",
   "execution_count": 14,
   "id": "b8029242",
   "metadata": {},
   "outputs": [
    {
     "name": "stdout",
     "output_type": "stream",
     "text": [
      "{'name': 'Nagoor Basha', 'age': 10, 'address': 'Ramanaya peta'}\n"
     ]
    }
   ],
   "source": [
    "print(student)"
   ]
  },
  {
   "cell_type": "code",
   "execution_count": 17,
   "id": "0dbba787",
   "metadata": {},
   "outputs": [
    {
     "name": "stdout",
     "output_type": "stream",
     "text": [
      "dict_keys(['name', 'age', 'address'])\n",
      "dict_values(['Nagoor Basha', 10, 'Ramanaya peta'])\n"
     ]
    }
   ],
   "source": [
    "#methods\n",
    "keys=student.keys()\n",
    "values=student.values()\n",
    "print(keys)\n",
    "print(values)"
   ]
  },
  {
   "cell_type": "code",
   "execution_count": 18,
   "id": "b542fbef",
   "metadata": {},
   "outputs": [
    {
     "data": {
      "text/plain": [
       "dict_items([('name', 'Nagoor Basha'), ('age', 10), ('address', 'Ramanaya peta')])"
      ]
     },
     "execution_count": 18,
     "metadata": {},
     "output_type": "execute_result"
    }
   ],
   "source": [
    "student.items()"
   ]
  },
  {
   "cell_type": "code",
   "execution_count": 19,
   "id": "60592e16",
   "metadata": {},
   "outputs": [
    {
     "name": "stdout",
     "output_type": "stream",
     "text": [
      "{'name': 'Nagoor Basha', 'age': 10, 'address': 'Ramanaya peta'}\n",
      "{'name': 'Nagoor Basha', 'age': 10, 'address': 'Ramanaya peta'}\n"
     ]
    }
   ],
   "source": [
    "#shallow copy\n",
    "student_copy=student\n",
    "print(student)\n",
    "print(student_copy)"
   ]
  },
  {
   "cell_type": "code",
   "execution_count": 20,
   "id": "9c5ac89e",
   "metadata": {},
   "outputs": [
    {
     "name": "stdout",
     "output_type": "stream",
     "text": [
      "{'name': 'Nadeem', 'age': 10, 'address': 'Ramanaya peta'}\n",
      "{'name': 'Nadeem', 'age': 10, 'address': 'Ramanaya peta'}\n"
     ]
    }
   ],
   "source": [
    "student['name']=\"Nadeem\"\n",
    "print(student)\n",
    "print(student_copy)"
   ]
  },
  {
   "cell_type": "code",
   "execution_count": 26,
   "id": "53128634",
   "metadata": {},
   "outputs": [
    {
     "name": "stdout",
     "output_type": "stream",
     "text": [
      "{'name': 'Nagoor Basha', 'age': 10, 'address': 'Ramanaya peta'}\n",
      "{'name': 'Nagoor Basha', 'age': 10, 'address': 'Ramanaya peta'}\n"
     ]
    }
   ],
   "source": [
    "student_copy1=student.copy()\n",
    "print(student)\n",
    "print(student_copy1)"
   ]
  },
  {
   "cell_type": "code",
   "execution_count": 27,
   "id": "15fb8b32",
   "metadata": {},
   "outputs": [
    {
     "name": "stdout",
     "output_type": "stream",
     "text": [
      "{'name': 'Nadeem', 'age': 10, 'address': 'Ramanaya peta'}\n",
      "{'name': 'Nagoor Basha', 'age': 10, 'address': 'Ramanaya peta'}\n"
     ]
    }
   ],
   "source": [
    "student['name']='Nadeem'\n",
    "print(student)\n",
    "print(student_copy1)"
   ]
  },
  {
   "cell_type": "code",
   "execution_count": 28,
   "id": "3b93c98d",
   "metadata": {},
   "outputs": [
    {
     "data": {
      "text/plain": [
       "{'name': 'Nadeem', 'age': 10, 'address': 'Ramanaya peta'}"
      ]
     },
     "execution_count": 28,
     "metadata": {},
     "output_type": "execute_result"
    }
   ],
   "source": [
    "student"
   ]
  },
  {
   "cell_type": "code",
   "execution_count": 29,
   "id": "2d1296f6",
   "metadata": {},
   "outputs": [
    {
     "name": "stdout",
     "output_type": "stream",
     "text": [
      "name\n",
      "age\n",
      "address\n"
     ]
    }
   ],
   "source": [
    "for key in student.keys():\n",
    "    print(key)"
   ]
  },
  {
   "cell_type": "code",
   "execution_count": 30,
   "id": "95559913",
   "metadata": {},
   "outputs": [
    {
     "name": "stdout",
     "output_type": "stream",
     "text": [
      "Nadeem\n",
      "10\n",
      "Ramanaya peta\n"
     ]
    }
   ],
   "source": [
    "for value in student.values():\n",
    "    print(value)"
   ]
  },
  {
   "cell_type": "code",
   "execution_count": 31,
   "id": "5237858b",
   "metadata": {},
   "outputs": [
    {
     "name": "stdout",
     "output_type": "stream",
     "text": [
      "name:Nadeem\n",
      "age:10\n",
      "address:Ramanaya peta\n"
     ]
    }
   ],
   "source": [
    "for key,value in student.items():\n",
    "    print(f\"{key}:{value}\")"
   ]
  },
  {
   "cell_type": "code",
   "execution_count": 32,
   "id": "b309cdd7",
   "metadata": {},
   "outputs": [],
   "source": [
    "students={\n",
    "    'student1':{'name': 'Nadeem', 'age': 10, 'address': 'Ramanaya peta'},\n",
    "    'student2':{'name': 'Nagoor Basha', 'age': 10, 'address': 'Ramanaya peta'}\n",
    "}"
   ]
  },
  {
   "cell_type": "code",
   "execution_count": 33,
   "id": "a694808f",
   "metadata": {},
   "outputs": [
    {
     "name": "stdout",
     "output_type": "stream",
     "text": [
      "{'student1': {'name': 'Nadeem', 'age': 10, 'address': 'Ramanaya peta'}, 'student2': {'name': 'Nagoor Basha', 'age': 10, 'address': 'Ramanaya peta'}}\n"
     ]
    }
   ],
   "source": [
    "print(students)"
   ]
  },
  {
   "cell_type": "code",
   "execution_count": 34,
   "id": "20ef1072",
   "metadata": {},
   "outputs": [
    {
     "name": "stdout",
     "output_type": "stream",
     "text": [
      "student1:{'name': 'Nadeem', 'age': 10, 'address': 'Ramanaya peta'}\n",
      "name:Nadeem\n",
      "age:10\n",
      "address:Ramanaya peta\n",
      "student2:{'name': 'Nagoor Basha', 'age': 10, 'address': 'Ramanaya peta'}\n",
      "name:Nagoor Basha\n",
      "age:10\n",
      "address:Ramanaya peta\n"
     ]
    }
   ],
   "source": [
    "for key,studentinfo in students.items():\n",
    "    print(f\"{key}:{studentinfo}\")\n",
    "    for key,value in studentinfo.items():\n",
    "        print(f\"{key}:{value}\")"
   ]
  },
  {
   "cell_type": "code",
   "execution_count": 35,
   "id": "58a4923d",
   "metadata": {},
   "outputs": [
    {
     "data": {
      "text/plain": [
       "{0: 0, 1: 1, 2: 4, 3: 9, 4: 16, 5: 25, 6: 36, 7: 49, 8: 64, 9: 81}"
      ]
     },
     "execution_count": 35,
     "metadata": {},
     "output_type": "execute_result"
    }
   ],
   "source": [
    "#Comprehension\n",
    "{i:i**2 for i in range(10)}"
   ]
  },
  {
   "cell_type": "code",
   "execution_count": 36,
   "id": "3b3f152b",
   "metadata": {},
   "outputs": [
    {
     "data": {
      "text/plain": [
       "{0: 0, 2: 4, 4: 16, 6: 36, 8: 64}"
      ]
     },
     "execution_count": 36,
     "metadata": {},
     "output_type": "execute_result"
    }
   ],
   "source": [
    "{i:i**2 for i in range(10) if i%2==0}"
   ]
  },
  {
   "cell_type": "code",
   "execution_count": 44,
   "id": "b8aaef67",
   "metadata": {},
   "outputs": [
    {
     "name": "stdout",
     "output_type": "stream",
     "text": [
      "{1: 1, 2: 2, 3: 3, 4: 4, 5: 2, 6: 1}\n"
     ]
    },
    {
     "data": {
      "text/plain": [
       "{1: 1, 2: 2, 3: 3, 4: 4, 5: 2, 6: 1}"
      ]
     },
     "execution_count": 44,
     "metadata": {},
     "output_type": "execute_result"
    }
   ],
   "source": [
    "lst=[1,2,2,3,3,3,4,4,4,4,5,5,6]\n",
    "freq={}\n",
    "\n",
    "for i in lst:\n",
    "    if i in freq:\n",
    "        freq[i]+=1\n",
    "    else:\n",
    "        freq[i]=1\n",
    "\n",
    "print(freq)\n",
    "\n",
    "{i:lst.count(i) for i in set(lst)}"
   ]
  },
  {
   "cell_type": "code",
   "execution_count": 40,
   "id": "df0d0d3a",
   "metadata": {},
   "outputs": [
    {
     "name": "stdout",
     "output_type": "stream",
     "text": [
      "{'a': 1, 'b': 2, 'c': 3, 'd': 3}\n"
     ]
    }
   ],
   "source": [
    "dict1={\"a\":1,\"b\":2}\n",
    "dict2={\"c\":3,\"d\":3}\n",
    "merged={**dict1,**dict2}\n",
    "print(merged)"
   ]
  },
  {
   "cell_type": "code",
   "execution_count": null,
   "id": "d64d854d",
   "metadata": {},
   "outputs": [],
   "source": []
  }
 ],
 "metadata": {
  "kernelspec": {
   "display_name": "Python 3 (ipykernel)",
   "language": "python",
   "name": "python3"
  },
  "language_info": {
   "codemirror_mode": {
    "name": "ipython",
    "version": 3
   },
   "file_extension": ".py",
   "mimetype": "text/x-python",
   "name": "python",
   "nbconvert_exporter": "python",
   "pygments_lexer": "ipython3",
   "version": "3.11.4"
  }
 },
 "nbformat": 4,
 "nbformat_minor": 5
}
