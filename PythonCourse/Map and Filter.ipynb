{
 "cells": [
  {
   "cell_type": "code",
   "execution_count": 1,
   "id": "33f78683",
   "metadata": {},
   "outputs": [],
   "source": [
    "def square(x):\n",
    "    return x**2"
   ]
  },
  {
   "cell_type": "code",
   "execution_count": 3,
   "id": "3e64bb01",
   "metadata": {},
   "outputs": [
    {
     "data": {
      "text/plain": [
       "[1, 4, 9, 16, 25, 36, 49, 64, 81, 100]"
      ]
     },
     "execution_count": 3,
     "metadata": {},
     "output_type": "execute_result"
    }
   ],
   "source": [
    "numbers=[1,2,3,4,5,6,7,8,9,10]\n",
    "list(map(square,numbers))"
   ]
  },
  {
   "cell_type": "code",
   "execution_count": 4,
   "id": "0d3fdbf9",
   "metadata": {},
   "outputs": [
    {
     "data": {
      "text/plain": [
       "[1, 4, 9, 16, 25, 36, 49, 64, 81, 100]"
      ]
     },
     "execution_count": 4,
     "metadata": {},
     "output_type": "execute_result"
    }
   ],
   "source": [
    "list(map(lambda x:x**2,numbers))"
   ]
  },
  {
   "cell_type": "code",
   "execution_count": 5,
   "id": "3b3aecea",
   "metadata": {},
   "outputs": [
    {
     "name": "stdout",
     "output_type": "stream",
     "text": [
      "[5, 7, 9]\n"
     ]
    }
   ],
   "source": [
    "# Map multiple numbers\n",
    "number1=[1,2,3]\n",
    "number2=[4,5,6]\n",
    "\n",
    "added_numbers=list(map(lambda x,y:x+y,number1,number2))\n",
    "print(added_numbers)"
   ]
  },
  {
   "cell_type": "code",
   "execution_count": 7,
   "id": "91c72573",
   "metadata": {},
   "outputs": [
    {
     "data": {
      "text/plain": [
       "[1, 2, 3, 4, 5]"
      ]
     },
     "execution_count": 7,
     "metadata": {},
     "output_type": "execute_result"
    }
   ],
   "source": [
    "numbers=['1','2','3','4','5']\n",
    "list(map(int,numbers))"
   ]
  },
  {
   "cell_type": "code",
   "execution_count": 9,
   "id": "c0ffb3cd",
   "metadata": {},
   "outputs": [
    {
     "data": {
      "text/plain": [
       "['APPLE', 'CHERRY', 'ORGANGE']"
      ]
     },
     "execution_count": 9,
     "metadata": {},
     "output_type": "execute_result"
    }
   ],
   "source": [
    "words=['apple','cherry','organge']\n",
    "list(map(str.upper,words))"
   ]
  },
  {
   "cell_type": "code",
   "execution_count": 10,
   "id": "5ddd5804",
   "metadata": {},
   "outputs": [],
   "source": [
    "persons=[\n",
    "    {\n",
    "        'name':'khadar',\n",
    "        'age':38,\n",
    "    },\n",
    "    {\n",
    "        'name':'nagoor',\n",
    "        'age':10,\n",
    "    }\n",
    "]"
   ]
  },
  {
   "cell_type": "code",
   "execution_count": 11,
   "id": "f1584ffd",
   "metadata": {},
   "outputs": [],
   "source": [
    "def getName(person):\n",
    "    return person['name']"
   ]
  },
  {
   "cell_type": "code",
   "execution_count": 12,
   "id": "29007d99",
   "metadata": {},
   "outputs": [
    {
     "data": {
      "text/plain": [
       "['khadar', 'nagoor']"
      ]
     },
     "execution_count": 12,
     "metadata": {},
     "output_type": "execute_result"
    }
   ],
   "source": [
    "list(map(getName,persons))"
   ]
  },
  {
   "cell_type": "code",
   "execution_count": 14,
   "id": "496a1a45",
   "metadata": {},
   "outputs": [],
   "source": [
    "numbers=[1,2,3,4,5,6,7,8,9,10]"
   ]
  },
  {
   "cell_type": "code",
   "execution_count": 15,
   "id": "d6cc4206",
   "metadata": {},
   "outputs": [],
   "source": [
    "def is_even(num):\n",
    "    if num%2==0:\n",
    "        return True"
   ]
  },
  {
   "cell_type": "code",
   "execution_count": 16,
   "id": "fa4fc6fb",
   "metadata": {},
   "outputs": [
    {
     "data": {
      "text/plain": [
       "[2, 4, 6, 8, 10]"
      ]
     },
     "execution_count": 16,
     "metadata": {},
     "output_type": "execute_result"
    }
   ],
   "source": [
    "list(filter(is_even,numbers))"
   ]
  },
  {
   "cell_type": "code",
   "execution_count": 17,
   "id": "3ba9eb83",
   "metadata": {},
   "outputs": [
    {
     "data": {
      "text/plain": [
       "[6, 7, 8, 9, 10]"
      ]
     },
     "execution_count": 17,
     "metadata": {},
     "output_type": "execute_result"
    }
   ],
   "source": [
    "list(filter(lambda x:x>5,numbers))"
   ]
  },
  {
   "cell_type": "code",
   "execution_count": 19,
   "id": "be7fd234",
   "metadata": {},
   "outputs": [
    {
     "data": {
      "text/plain": [
       "[6, 8, 10]"
      ]
     },
     "execution_count": 19,
     "metadata": {},
     "output_type": "execute_result"
    }
   ],
   "source": [
    "list(filter(lambda x:x>5 and x%2==0,numbers))"
   ]
  },
  {
   "cell_type": "code",
   "execution_count": 20,
   "id": "fe8647d3",
   "metadata": {},
   "outputs": [],
   "source": [
    "persons=[\n",
    "    {\n",
    "        'name':'khadar',\n",
    "        'age':38,\n",
    "    },\n",
    "    {\n",
    "        'name':'mymoon',\n",
    "        'age':32,\n",
    "    },\n",
    "    {\n",
    "        'name':'nagoor',\n",
    "        'age':10,\n",
    "    },\n",
    "    {\n",
    "        'name':'naddem',\n",
    "        'age':9\n",
    "    }\n",
    "]"
   ]
  },
  {
   "cell_type": "code",
   "execution_count": 21,
   "id": "cecea0d4",
   "metadata": {},
   "outputs": [],
   "source": [
    "def check_age(person):\n",
    "    if person['age']>=25:\n",
    "        return True"
   ]
  },
  {
   "cell_type": "code",
   "execution_count": 22,
   "id": "270ecc66",
   "metadata": {},
   "outputs": [
    {
     "data": {
      "text/plain": [
       "[{'name': 'khadar', 'age': 38}, {'name': 'mymoon', 'age': 32}]"
      ]
     },
     "execution_count": 22,
     "metadata": {},
     "output_type": "execute_result"
    }
   ],
   "source": [
    "list(filter(check_age,persons))"
   ]
  },
  {
   "cell_type": "code",
   "execution_count": 26,
   "id": "dd969324",
   "metadata": {},
   "outputs": [
    {
     "data": {
      "text/plain": [
       "150"
      ]
     },
     "execution_count": 26,
     "metadata": {},
     "output_type": "execute_result"
    }
   ],
   "source": [
    "#reduce\n",
    "from functools import reduce\n",
    "\n",
    "numbers=[10,20,30,40,50]\n",
    "\n",
    "reduce(lambda a,b:a+b,numbers)"
   ]
  },
  {
   "cell_type": "code",
   "execution_count": 27,
   "id": "5bf5ae8d",
   "metadata": {},
   "outputs": [
    {
     "data": {
      "text/plain": [
       "50"
      ]
     },
     "execution_count": 27,
     "metadata": {},
     "output_type": "execute_result"
    }
   ],
   "source": [
    "# Find Maximum Element\n",
    "reduce(lambda a,b:a if a>b else b,numbers)"
   ]
  },
  {
   "cell_type": "code",
   "execution_count": 28,
   "id": "5f29eeec",
   "metadata": {},
   "outputs": [
    {
     "data": {
      "text/plain": [
       "12000000"
      ]
     },
     "execution_count": 28,
     "metadata": {},
     "output_type": "execute_result"
    }
   ],
   "source": [
    "#Product of Elements\n",
    "reduce(lambda a,b:a*b,numbers)"
   ]
  },
  {
   "cell_type": "code",
   "execution_count": 30,
   "id": "b6ffdd22",
   "metadata": {},
   "outputs": [
    {
     "data": {
      "text/plain": [
       "'Python is awesome'"
      ]
     },
     "execution_count": 30,
     "metadata": {},
     "output_type": "execute_result"
    }
   ],
   "source": [
    "#Concatenate Strings\n",
    "words = [\"Python\", \"is\", \"awesome\"]\n",
    "reduce(lambda a,b:a+\" \"+b,words)"
   ]
  },
  {
   "cell_type": "code",
   "execution_count": 31,
   "id": "36553f17",
   "metadata": {},
   "outputs": [
    {
     "data": {
      "text/plain": [
       "1234"
      ]
     },
     "execution_count": 31,
     "metadata": {},
     "output_type": "execute_result"
    }
   ],
   "source": [
    "#Convert List of Digits to Integer\n",
    "digits = [1, 2, 3, 4]\n",
    "reduce(lambda a,b:a*10+b,digits)"
   ]
  },
  {
   "cell_type": "code",
   "execution_count": 32,
   "id": "c749bb1a",
   "metadata": {},
   "outputs": [
    {
     "data": {
      "text/plain": [
       "[1, 2, 3, 4, 5]"
      ]
     },
     "execution_count": 32,
     "metadata": {},
     "output_type": "execute_result"
    }
   ],
   "source": [
    "#Flatten a List of Lists\n",
    "list_of_lists = [[1, 2], [3, 4], [5]]\n",
    "\n",
    "reduce(lambda a,b:a+b,list_of_lists)"
   ]
  },
  {
   "cell_type": "code",
   "execution_count": 33,
   "id": "4d76c460",
   "metadata": {},
   "outputs": [
    {
     "data": {
      "text/plain": [
       "\"\\n    Function to return a rectangle pattern of '*' with length n and breadth m as a list of strings.\\n    \\n    Parameters:\\n    n (int): The number of rows in the rectangle.\\n    m (int): The number of columns in the rectangle.\\n    \\n    Returns:\\n    list: A list of strings where each string represents a row of the rectangle pattern.\\n    \""
      ]
     },
     "execution_count": 33,
     "metadata": {},
     "output_type": "execute_result"
    }
   ],
   "source": [
    "\"\"\"\n",
    "    Function to return a rectangle pattern of '*' with length n and breadth m as a list of strings.\n",
    "    \n",
    "    Parameters:\n",
    "    n (int): The number of rows in the rectangle.\n",
    "    m (int): The number of columns in the rectangle.\n",
    "    \n",
    "    Returns:\n",
    "    list: A list of strings where each string represents a row of the rectangle pattern.\n",
    "    \"\"\""
   ]
  },
  {
   "cell_type": "code",
   "execution_count": 36,
   "id": "a99b44c0",
   "metadata": {},
   "outputs": [],
   "source": [
    "def generate_rectangle(n,m):\n",
    "    rectangle=[]\n",
    "    \n",
    "    for _ in range(n):\n",
    "        row='*' * m\n",
    "        rectangle.append(row)\n",
    "    return rectangle"
   ]
  },
  {
   "cell_type": "code",
   "execution_count": 37,
   "id": "75b5fdb7",
   "metadata": {},
   "outputs": [
    {
     "data": {
      "text/plain": [
       "['***', '***', '***', '***', '***', '***']"
      ]
     },
     "execution_count": 37,
     "metadata": {},
     "output_type": "execute_result"
    }
   ],
   "source": [
    "generate_rectangle(6,3)"
   ]
  },
  {
   "cell_type": "code",
   "execution_count": 42,
   "id": "a0b6bd08",
   "metadata": {},
   "outputs": [
    {
     "name": "stdout",
     "output_type": "stream",
     "text": [
      "*****\n",
      "*   *\n",
      "*   *\n",
      "*   *\n",
      "*****\n"
     ]
    }
   ],
   "source": [
    "def hollow_square(n):\n",
    "    if n<=0:\n",
    "        return []\n",
    "    \n",
    "    square=[]\n",
    "    for i in range(n):\n",
    "        \n",
    "        if (i==0) or (i==n-1):\n",
    "            print('*'*n)\n",
    "        else:\n",
    "            print('*'+' '*(n-2)+'*')\n",
    "\n",
    "hollow_square(5)"
   ]
  },
  {
   "cell_type": "code",
   "execution_count": 43,
   "id": "77cb2e11",
   "metadata": {},
   "outputs": [],
   "source": [
    "def generate_rectangle(n, m):\n",
    "    \"\"\"\n",
    "    Function to return a rectangle pattern of '*' with length n and breadth m as a list of strings.\n",
    "    \n",
    "    Parameters:\n",
    "    n (int): The number of rows in the rectangle.\n",
    "    m (int): The number of columns in the rectangle.\n",
    "    \n",
    "    Returns:\n",
    "    list: A list of strings where each string represents a row of the rectangle pattern.\n",
    "    \"\"\"\n",
    "    if n<=0:\n",
    "        return []\n",
    "\n",
    "    rectangle=[]\n",
    "    for _ in range(n):\n",
    "        rectangle.append('*'*m)\n",
    "    \n",
    "    return rectangle\n"
   ]
  },
  {
   "cell_type": "code",
   "execution_count": 44,
   "id": "3aa7b016",
   "metadata": {},
   "outputs": [
    {
     "data": {
      "text/plain": [
       "['***', '***', '***', '***', '***']"
      ]
     },
     "execution_count": 44,
     "metadata": {},
     "output_type": "execute_result"
    }
   ],
   "source": [
    "generate_rectangle(5,3)"
   ]
  },
  {
   "cell_type": "code",
   "execution_count": null,
   "id": "12f78a27",
   "metadata": {},
   "outputs": [],
   "source": []
  }
 ],
 "metadata": {
  "kernelspec": {
   "display_name": "Python 3 (ipykernel)",
   "language": "python",
   "name": "python3"
  },
  "language_info": {
   "codemirror_mode": {
    "name": "ipython",
    "version": 3
   },
   "file_extension": ".py",
   "mimetype": "text/x-python",
   "name": "python",
   "nbconvert_exporter": "python",
   "pygments_lexer": "ipython3",
   "version": "3.11.4"
  }
 },
 "nbformat": 4,
 "nbformat_minor": 5
}
