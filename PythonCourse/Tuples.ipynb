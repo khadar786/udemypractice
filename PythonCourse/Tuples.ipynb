{
 "cells": [
  {
   "cell_type": "code",
   "execution_count": 1,
   "id": "86b754db",
   "metadata": {},
   "outputs": [
    {
     "name": "stdout",
     "output_type": "stream",
     "text": [
      "<class 'tuple'>\n"
     ]
    }
   ],
   "source": [
    "empty_tuple=()\n",
    "print(type(empty_tuple))"
   ]
  },
  {
   "cell_type": "code",
   "execution_count": 2,
   "id": "103e525b",
   "metadata": {},
   "outputs": [
    {
     "name": "stdout",
     "output_type": "stream",
     "text": [
      "<class 'tuple'>\n"
     ]
    }
   ],
   "source": [
    "empty_tuple=tuple()\n",
    "print(type(empty_tuple))"
   ]
  },
  {
   "cell_type": "code",
   "execution_count": 3,
   "id": "149eec59",
   "metadata": {},
   "outputs": [
    {
     "data": {
      "text/plain": [
       "(1, 2, 3, 3, 4, 4)"
      ]
     },
     "execution_count": 3,
     "metadata": {},
     "output_type": "execute_result"
    }
   ],
   "source": [
    "tp=tuple([1,2,3,3,4,4])\n",
    "tp"
   ]
  },
  {
   "cell_type": "code",
   "execution_count": 4,
   "id": "bca1cdd0",
   "metadata": {},
   "outputs": [
    {
     "data": {
      "text/plain": [
       "1"
      ]
     },
     "execution_count": 4,
     "metadata": {},
     "output_type": "execute_result"
    }
   ],
   "source": [
    "tp[0]"
   ]
  },
  {
   "cell_type": "code",
   "execution_count": 6,
   "id": "31394a62",
   "metadata": {},
   "outputs": [
    {
     "data": {
      "text/plain": [
       "(10, 20, 30, 'hello', 'basha')"
      ]
     },
     "execution_count": 6,
     "metadata": {},
     "output_type": "execute_result"
    }
   ],
   "source": [
    "#mixed tuple\n",
    "mixed_tuple=(10,20,30,'hello','basha')\n",
    "mixed_tuple"
   ]
  },
  {
   "cell_type": "code",
   "execution_count": 7,
   "id": "fbd98df8",
   "metadata": {},
   "outputs": [
    {
     "data": {
      "text/plain": [
       "'basha'"
      ]
     },
     "execution_count": 7,
     "metadata": {},
     "output_type": "execute_result"
    }
   ],
   "source": [
    "#Accessing tuple elements\n",
    "mixed_tuple[-1]"
   ]
  },
  {
   "cell_type": "code",
   "execution_count": 8,
   "id": "45c3208b",
   "metadata": {},
   "outputs": [
    {
     "data": {
      "text/plain": [
       "(10, 20, 30)"
      ]
     },
     "execution_count": 8,
     "metadata": {},
     "output_type": "execute_result"
    }
   ],
   "source": [
    "mixed_tuple[0:3]"
   ]
  },
  {
   "cell_type": "code",
   "execution_count": 9,
   "id": "dc003725",
   "metadata": {},
   "outputs": [
    {
     "data": {
      "text/plain": [
       "('basha',)"
      ]
     },
     "execution_count": 9,
     "metadata": {},
     "output_type": "execute_result"
    }
   ],
   "source": [
    "mixed_tuple[-1::]"
   ]
  },
  {
   "cell_type": "code",
   "execution_count": 10,
   "id": "f00cb7cc",
   "metadata": {},
   "outputs": [
    {
     "data": {
      "text/plain": [
       "('basha', 'hello', 30, 20, 10)"
      ]
     },
     "execution_count": 10,
     "metadata": {},
     "output_type": "execute_result"
    }
   ],
   "source": [
    "mixed_tuple[::-1]"
   ]
  },
  {
   "cell_type": "code",
   "execution_count": 11,
   "id": "bac23866",
   "metadata": {},
   "outputs": [
    {
     "data": {
      "text/plain": [
       "(10,\n",
       " 20,\n",
       " 30,\n",
       " 'hello',\n",
       " 'basha',\n",
       " 10,\n",
       " 20,\n",
       " 30,\n",
       " 'hello',\n",
       " 'basha',\n",
       " 10,\n",
       " 20,\n",
       " 30,\n",
       " 'hello',\n",
       " 'basha')"
      ]
     },
     "execution_count": 11,
     "metadata": {},
     "output_type": "execute_result"
    }
   ],
   "source": [
    "#Tuple operation\n",
    "mixed_tuple*3"
   ]
  },
  {
   "cell_type": "code",
   "execution_count": 12,
   "id": "cf7f224a",
   "metadata": {},
   "outputs": [
    {
     "data": {
      "text/plain": [
       "(1, 2, 3, 3, 4, 4)"
      ]
     },
     "execution_count": 12,
     "metadata": {},
     "output_type": "execute_result"
    }
   ],
   "source": [
    "tp"
   ]
  },
  {
   "cell_type": "code",
   "execution_count": 13,
   "id": "11595ac9",
   "metadata": {},
   "outputs": [
    {
     "data": {
      "text/plain": [
       "(1, 2, 3, 3, 4, 4, 10, 20, 30, 'hello', 'basha')"
      ]
     },
     "execution_count": 13,
     "metadata": {},
     "output_type": "execute_result"
    }
   ],
   "source": [
    "tp+mixed_tuple"
   ]
  },
  {
   "cell_type": "code",
   "execution_count": 16,
   "id": "76874c21",
   "metadata": {},
   "outputs": [
    {
     "data": {
      "text/plain": [
       "1"
      ]
     },
     "execution_count": 16,
     "metadata": {},
     "output_type": "execute_result"
    }
   ],
   "source": [
    "#Tuple Methods\n",
    "tp.count(3)\n",
    "tp.index(2)"
   ]
  },
  {
   "cell_type": "code",
   "execution_count": 17,
   "id": "e8667d5b",
   "metadata": {},
   "outputs": [
    {
     "name": "stdout",
     "output_type": "stream",
     "text": [
      "(10, 'hi', 30.5)\n"
     ]
    }
   ],
   "source": [
    "#packed and unpacked\n",
    "packed_tuple=10,'hi',30.5\n",
    "print(packed_tuple)"
   ]
  },
  {
   "cell_type": "code",
   "execution_count": 18,
   "id": "67acbb34",
   "metadata": {},
   "outputs": [
    {
     "name": "stdout",
     "output_type": "stream",
     "text": [
      "10 hi 30.5\n"
     ]
    }
   ],
   "source": [
    "a,b,c=10,'hi',30.5\n",
    "print(a,b,c)"
   ]
  },
  {
   "cell_type": "code",
   "execution_count": 21,
   "id": "d3e28a39",
   "metadata": {},
   "outputs": [
    {
     "data": {
      "text/plain": [
       "[4]"
      ]
     },
     "execution_count": 21,
     "metadata": {},
     "output_type": "execute_result"
    }
   ],
   "source": [
    "#Nested List\n",
    "#Nested Tuple\n",
    "nlst=[[1,2,3],[4,5,6],'hi',80.5]\n",
    "nlst[1][0:1]"
   ]
  },
  {
   "cell_type": "code",
   "execution_count": 26,
   "id": "c3550c2f",
   "metadata": {},
   "outputs": [
    {
     "name": "stdout",
     "output_type": "stream",
     "text": [
      "1 2 3 \n",
      "4 5 6 \n",
      "h i \n"
     ]
    }
   ],
   "source": [
    "ntp=((1,2,3),(4,5,6),'hi')\n",
    "\n",
    "for sub_tp in ntp:\n",
    "    for item in sub_tp:\n",
    "        print(item,end=\" \")\n",
    "    print()"
   ]
  },
  {
   "cell_type": "code",
   "execution_count": null,
   "id": "85020b58",
   "metadata": {},
   "outputs": [],
   "source": []
  }
 ],
 "metadata": {
  "kernelspec": {
   "display_name": "Python 3 (ipykernel)",
   "language": "python",
   "name": "python3"
  },
  "language_info": {
   "codemirror_mode": {
    "name": "ipython",
    "version": 3
   },
   "file_extension": ".py",
   "mimetype": "text/x-python",
   "name": "python",
   "nbconvert_exporter": "python",
   "pygments_lexer": "ipython3",
   "version": "3.11.4"
  }
 },
 "nbformat": 4,
 "nbformat_minor": 5
}
